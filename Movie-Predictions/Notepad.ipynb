{
 "cells": [
  {
   "cell_type": "markdown",
   "metadata": {},
   "source": [
    "### Branje ocen (6)"
   ]
  },
  {
   "cell_type": "markdown",
   "metadata": {},
   "source": [
    "Napišite razred (npr. z imenom UserItemData), v katerem boste hranili prebrane podatke. Predlagam, da imate v konstruktorju razreda argument path (pot do datoteke) in tri opcijske argumente: from_date (od katerega datuma naprej naj bere podatke), to_date (do katerega datuma naj prebere podatke) in min_ratings (minimalno število ocen, ki jih mora imeti film). V razred dodajte še metodo, ki vam izpiše, koliko ocen je prebral. Predlagam, da dodate še metodi, ki prebrane podatke shrani oz. prebere s pomočjo knjižnice pickle. Npr., naslednji program:"
   ]
  },
  {
   "cell_type": "code",
   "execution_count": 1,
   "metadata": {},
   "outputs": [],
   "source": [
    "import pandas as pd\n",
    "import numpy as np\n",
    "\n",
    "\n",
    "\n",
    "\n",
    "class UserItemData:\n",
    "    def __init__(self, path, start_date=None, end_date=None, min_ratings=None):\n",
    "        self.path = path\n",
    "        self.start_date = start_date\n",
    "        self.end_date = end_date\n",
    "        self.min_ratings = min_ratings\n",
    "        \n",
    "    \n",
    "    def __new__(self, path):\n",
    "        self.path = path\n",
    "        df = pd.read_csv(path, sep='\\t')\n",
    "        return df\n",
    "\n",
    "    \n",
    "    def nratings(self):\n",
    "        link = self.path\n",
    "        start_date = self.start_date\n",
    "        end_date = self.end_date\n",
    "        uim = pd.read_csv(link, sep='\\t')\n",
    "        if(start_date == None):\n",
    "            print(uim['userID'].count())\n",
    "        else:\n",
    "            date = []\n",
    "            for i in range(uim['date_day'].size):\n",
    "                dan = str(uim['date_year'][i]) + '-' +  str(uim['date_month'][i]) + '-' + str(uim['date_day'][i])\n",
    "                date.append(dan)\n",
    "            uim['date'] = date\n",
    "            tmpst = start_date.split('.')\n",
    "            start_date = tmpst[2] + \"-\" + tmpst[0] + \"-\" + tmpst[1]\n",
    "            tmpen = end_date.split('.')\n",
    "            end_date = tmpen[2] + \"-\" + tmpen[0] + \"-\" + tmpen[1]\n",
    "            #print(end_date)\n",
    "            #print(start_date)\n",
    "            df = uim[(uim['date'] > '2006-01-12') & (uim['date'] <= '2006-02-30')]\n",
    "            print(df)\n",
    "            \n"
   ]
  },
  {
   "cell_type": "code",
   "execution_count": 2,
   "metadata": {
    "scrolled": true
   },
   "outputs": [],
   "source": [
    "#a = UserItemData('data/user_ratedmovies.dat', start_date = '12.1.2006', end_date='30.1.2006', min_ratings=100)\n",
    "#a =  UserItemData('data/user_ratedmovies.dat')\n",
    "#a.PrintPath()"
   ]
  },
  {
   "cell_type": "markdown",
   "metadata": {},
   "source": [
    "### Branje filmov (6)"
   ]
  },
  {
   "cell_type": "markdown",
   "metadata": {},
   "source": [
    "Napišite razred, ki prebere datoteko s filmi in ima metodo get_title(movieID), ki za dani ID filma vrne njegov naslov."
   ]
  },
  {
   "cell_type": "code",
   "execution_count": 3,
   "metadata": {},
   "outputs": [],
   "source": [
    "class MovieData:\n",
    "    def __init__(self, path):\n",
    "        self.path = path\n",
    "        \n",
    "    def get_title(self, index):\n",
    "        link = self.path\n",
    "        uim = pd.read_csv(link, sep='\\t', encoding=\"ISO-8859-1\")\n",
    "        selected = uim[uim['id'] == index]\n",
    "        out = str(selected['title']).split('\\n')\n",
    "        return out[0][5:]\n"
   ]
  },
  {
   "cell_type": "code",
   "execution_count": 4,
   "metadata": {},
   "outputs": [
    {
     "name": "stdout",
     "output_type": "stream",
     "text": [
      "Toy story\n"
     ]
    }
   ],
   "source": [
    "md = MovieData('data/movies.dat')\n",
    "print(md.get_title(1))"
   ]
  },
  {
   "cell_type": "markdown",
   "metadata": {},
   "source": [
    "### Naključni prediktor (6)"
   ]
  },
  {
   "cell_type": "markdown",
   "metadata": {},
   "source": [
    "Napišite razred RandomPredictor, ki v konstruktorju sprejme minimalno in maksimalno oceno, metoda predict pa vrne naključno vrednost (med min in max) za vsak produkt."
   ]
  },
  {
   "cell_type": "code",
   "execution_count": 5,
   "metadata": {},
   "outputs": [],
   "source": [
    "from random import randrange\n",
    "\n",
    "class RandomPredictor:\n",
    "    def __init__(self, low, high):\n",
    "        self.low = low\n",
    "        self.high = high\n",
    "        self.uim = None\n",
    "        \n",
    "    def fit(self, uim):\n",
    "        low = self.low\n",
    "        high = self.high + 1\n",
    "        dolzina = uim['userID'].count()\n",
    "        ocene = [0] * dolzina\n",
    "        uim['ocena'] = ocene\n",
    "        for i in range(dolzina):\n",
    "            if(uim['ocena'][i] == 0):\n",
    "                rand = randrange(low, high)\n",
    "                uim.loc[uim.movieID == uim['movieID'][i], 'ocena'] = rand   \n",
    "                \n",
    "        self.uim = uim\n",
    "\n",
    "    def predict(self, index):\n",
    "        uim = self.uim\n",
    "        dict = {}\n",
    "        tmp = uim[uim.userID == index]\n",
    "        dolzina = uim['userID'].count()\n",
    "        for i in range(dolzina):\n",
    "            if uim['movieID'][i] not in dict:\n",
    "                if(uim['userID'][i] == index):\n",
    "                    dict[uim['movieID'][i]] =  uim['rating'][i]\n",
    "                else:\n",
    "                    dict[uim['movieID'][i]] =  uim['ocena'][i]\n",
    " \n",
    "        return dict\n",
    "        \n"
   ]
  },
  {
   "cell_type": "code",
   "execution_count": 6,
   "metadata": {},
   "outputs": [
    {
     "name": "stdout",
     "output_type": "stream",
     "text": [
      "<class 'dict'>\n",
      "Film: Toy story, ocena: 1\n",
      "Film: Grumpy Old Men, ocena: 3\n",
      "Film:  Money Train, ocena: 4\n",
      "Film:  The Usual Suspects, ocena: 4\n",
      "Film:  City Hall, ocena: 2\n"
     ]
    }
   ],
   "source": [
    "md = MovieData('data/movies.dat')\n",
    "uim = UserItemData('data/user_ratedmovies.dat')\n",
    "rp = RandomPredictor(1, 5)\n",
    "rp.fit(uim)\n",
    "pred = rp.predict(78)\n",
    "print(type(pred))\n",
    "items = [1, 3, 20, 50, 100]\n",
    "for item in items:\n",
    "    print(\"Film: {}, ocena: {}\".format(md.get_title(item), pred[item]))"
   ]
  },
  {
   "cell_type": "markdown",
   "metadata": {},
   "source": [
    "### Priporočanje (6)"
   ]
  },
  {
   "cell_type": "code",
   "execution_count": 7,
   "metadata": {},
   "outputs": [],
   "source": [
    "class Recommender:\n",
    "    def __init__(self, predictor):\n",
    "        self.predictor = predictor\n",
    "        \n",
    "        \n",
    "    def fit(self, uim):\n",
    "        predictor = self.predictor\n",
    "        predictor.fit(uim)\n",
    "        self.uim = uim\n",
    "\n",
    "                \n",
    "    def recommend(self, index, n=10, rec_seen=True):\n",
    "        uim = self.uim\n",
    "        dict = {}\n",
    "        tmp = uim[uim.userID == index]\n",
    "        tmp_list = tmp['movieID'].tolist()\n",
    "        #print(tmp_list)\n",
    "        \n",
    "        tf =  rec_seen\n",
    "        dolzina = uim['userID'].count()\n",
    "        for i in range(dolzina):\n",
    "            if uim['movieID'][i] not in dict:\n",
    "                if(uim['userID'][i] == index):\n",
    "                    if(tf):\n",
    "                        dict[uim['movieID'][i]] =  uim['rating'][i]\n",
    "                else:\n",
    "                    if(uim['movieID'][i] not in tmp_list):\n",
    "                        dict[uim['movieID'][i]] =  uim['ocena'][i]\n",
    "\n",
    "                    \n",
    "        x = {k: v for k, v in sorted(dict.items(), key=lambda item: item[1])}\n",
    "        els = list(x.items())\n",
    "        vrni = []\n",
    "        for i in range(n):\n",
    "            t = (els[-(i + 1)][0], els[-(i + 1)][1])\n",
    "            vrni.append(t)\n",
    "        \n",
    "        return vrni\n",
    "                \n",
    "                \n",
    "    \n",
    "        "
   ]
  },
  {
   "cell_type": "code",
   "execution_count": 9,
   "metadata": {},
   "outputs": [
    {
     "name": "stdout",
     "output_type": "stream",
     "text": [
      "Film:    It Conquered the World, ocena: 5\n",
      "Film:    December 7th, ocena: 5\n",
      "Film:    Pot o' Gold, ocena: 5\n",
      "Film:   A Walk in the Sun, ocena: 5\n",
      "Film:    Washington Heights, ocena: 5\n"
     ]
    }
   ],
   "source": [
    "md = MovieData('data/movies.dat')\n",
    "uim = UserItemData('data/user_ratedmovies.dat')\n",
    "rp = RandomPredictor(1, 5)\n",
    "rec = Recommender(rp)\n",
    "rec.fit(uim)\n",
    "rec_items = rec.recommend(78, n=5, rec_seen=False)\n",
    "for idmovie, val in rec_items:\n",
    "    print(\"Film: {}, ocena: {}\".format(md.get_title(idmovie), val))"
   ]
  },
  {
   "cell_type": "markdown",
   "metadata": {},
   "source": [
    "### Napovedovanje s povprečjem (6)"
   ]
  },
  {
   "cell_type": "markdown",
   "metadata": {},
   "source": [
    "Napišite razred AveragePredictor, ki v konstruktorju sprejme parameter b, kjer b >= 0. V metodi fit izračunajte povprečje za vsak film po formuli avg = (vs + b * g_avg) / (n + b), kjer so:\n",
    "\n",
    "- vs je vsota vseh ocen za ta film,\n",
    "- n je število ocen, ki jih je ta film dobil,\n",
    "- g_avg je povprečje čez vse filme,\n",
    "- b je parameter formule za povprečje. Če je b=0, gre za navadno povprečje.\n",
    "\n",
    "Če v recommenderju uporabimo AveragePredictor(b=0) in ostalo enako kot v prejšnjem razdelku, dobimo:"
   ]
  },
  {
   "cell_type": "code",
   "execution_count": 10,
   "metadata": {},
   "outputs": [],
   "source": [
    "class AveragePredictor:\n",
    "    def __init__(self, b):\n",
    "        self.b = b\n",
    "        \n",
    "    def fit(self, uim):\n",
    "        b = self.b\n",
    "        dolzina = uim['userID'].count()\n",
    "        ocene = [0] * dolzina\n",
    "        uim['ocena'] = ocene\n",
    "        summ = 0\n",
    "        ct = 0\n",
    "        d = {}\n",
    "        for i in range(dolzina):\n",
    "            summ += uim['rating'][i]\n",
    "            ct += 1\n",
    "\n",
    "            ocena = uim['rating'][i]\n",
    "            if uim['movieID'][i] not in d:\n",
    "                t = (uim['rating'][i], 1)\n",
    "                d[uim['movieID'][i]] = t\n",
    "            else:\n",
    "                tmpt = d.get(uim['movieID'][i])\n",
    "                t = (tmpt[0] + uim['rating'][i], tmpt[1] + 1)\n",
    "                d[uim['movieID'][i]] = t\n",
    "\n",
    "        g_avg = summ/ct\n",
    "        slovar = {}\n",
    "\n",
    "        for key in d:\n",
    "            t = d.get(key)\n",
    "            vs = int(t[0])\n",
    "            n = int(t[1])\n",
    "            avg = (vs + b * g_avg) / (n + b)\n",
    "            slovar[key] = avg\n",
    "                    \n",
    "        ocene = [0] * dolzina\n",
    "        uim['ocena'] = ocene\n",
    "        for i in range(dolzina):\n",
    "            if(uim['ocena'][i] == 0):\n",
    "                uim.loc[uim.movieID == uim['movieID'][i], 'ocena'] = slovar[uim['movieID'][i]]   \n",
    "\n",
    "        self.uim = uim"
   ]
  },
  {
   "cell_type": "code",
   "execution_count": 11,
   "metadata": {
    "scrolled": true
   },
   "outputs": [
    {
     "name": "stdout",
     "output_type": "stream",
     "text": [
      "Film:  The Usual Suspects, ocena: 4.225944245560473\n",
      "Film:    The Godfather: Part II, ocena: 4.146907937910189\n",
      "Film:    Cidade de Deus, ocena: 4.116538340205236\n",
      "Film:    The Dark Knight, ocena: 4.10413904093503\n",
      "Film:    12 Angry Men, ocena: 4.103639627096175\n"
     ]
    }
   ],
   "source": [
    "md = MovieData('data/movies.dat')\n",
    "uim = UserItemData('data/user_ratedmovies.dat')\n",
    "ap = AveragePredictor(100)\n",
    "rec = Recommender(ap)\n",
    "rec.fit(uim)\n",
    "rec_items = rec.recommend(78, n=5, rec_seen=False)\n",
    "for idmovie, val in rec_items:\n",
    "    print(\"Film: {}, ocena: {}\".format(md.get_title(idmovie), val)) "
   ]
  },
  {
   "cell_type": "markdown",
   "metadata": {},
   "source": [
    "### Priporočanje najbolj gledanih filmov (6)"
   ]
  },
  {
   "cell_type": "code",
   "execution_count": 18,
   "metadata": {},
   "outputs": [],
   "source": [
    "class ViewsPredictor:\n",
    "    def __init__(self):\n",
    "        pass\n",
    "\n",
    "        \n",
    "    def fit(self, uim):\n",
    "        dolzina = uim['userID'].count()\n",
    "        ocene = [] * dolzina\n",
    "        uim['ocena'] = ocene\n",
    "        d = {}\n",
    "        for i in range(dolzina):\n",
    "            ocena = uim['rating'][i]\n",
    "            if uim['movieID'][i] not in d:\n",
    "                t = (uim['rating'][i], 1)\n",
    "                d[uim['movieID'][i]] = t\n",
    "            else:\n",
    "                tmpt = d.get(uim['movieID'][i])\n",
    "                t = (tmpt[0] + uim['rating'][i], tmpt[1] + 1)\n",
    "                d[uim['movieID'][i]] = t\n",
    "\n",
    "        slovar = {}\n",
    "\n",
    "        for key in d:\n",
    "            t = d.get(key)\n",
    "            n = int(t[1])\n",
    "            slovar[key] = n\n",
    "                    \n",
    "        ocene = [0] * dolzina\n",
    "        uim['ocena'] = ocene\n",
    "        for i in range(dolzina):\n",
    "            if(uim['ocena'][i] == 0):\n",
    "                uim.loc[uim.movieID == uim['movieID'][i], 'ocena'] = slovar[uim['movieID'][i]]   \n",
    "\n",
    "        self.uim = uim"
   ]
  },
  {
   "cell_type": "code",
   "execution_count": 13,
   "metadata": {
    "scrolled": true
   },
   "outputs": [
    {
     "name": "stdout",
     "output_type": "stream",
     "text": [
      "Film:    The Lord of the Rings: The Fellowship of the Ring, ocena: 1576\n",
      "Film:    The Lord of the Rings: The Two Towers, ocena: 1528\n",
      "Film:    The Lord of the Rings: The Return of the King, ocena: 1457\n",
      "Film:   The Silence of the Lambs, ocena: 1431\n",
      "Film:    Shrek, ocena: 1404\n"
     ]
    }
   ],
   "source": [
    "md = MovieData('data/movies.dat')\n",
    "uim = UserItemData('data/user_ratedmovies.dat')\n",
    "vp = ViewsPredictor()\n",
    "rec = Recommender(vp)\n",
    "rec.fit(uim)\n",
    "rec_items = rec.recommend(78, n=5, rec_seen=False)\n",
    "for idmovie, val in rec_items:\n",
    "    print(\"Film: {}, ocena: {}\".format(md.get_title(idmovie), val))"
   ]
  },
  {
   "cell_type": "markdown",
   "metadata": {},
   "source": [
    "### Napovedovanje ocen s podobnostjo med produkti (6)"
   ]
  },
  {
   "cell_type": "markdown",
   "metadata": {},
   "source": [
    "Napišite razred ItemBasedPredictor, ki v konstruktorju sprejme dva parametra: min_values in threshold (privzete vrednosti obeh naj bodo 0). Razred naj na podlagi podobnosti med produkti izračuna pričakovano oceno produktov za izbranega uporabnika. Podobnost izračunajte s popravljeno cosinusno razdaljo. V razredu implementirajte metode fit in predict ter similarity(self, p1, p2), ki vrne podobnost med produktoma p1 in p2. Če je izračunana podobnost med produktoma manjša od threshold ali če imamo manj kot min_values uporabnikov, ki je ocenilo oba filma, naj bo podobnost med produktoma 0. Predlagam, da v metodi fit izračunate vse podobnosti in jih v predict in fit le uporabljate.\n",
    "\n",
    "Vzemimo le filme, ki imajo vsaj 1000 ocen, da bo računanje v metodi fit hitrejše. Moja implementacija potrebuje nekaj sekund."
   ]
  },
  {
   "cell_type": "code",
   "execution_count": 25,
   "metadata": {},
   "outputs": [],
   "source": [
    "import math\n",
    "\n",
    "class ItemBasedPredictor:\n",
    "    def __init__(self, min_values=0, threshold =0):\n",
    "        self.min_values = min_values\n",
    "        self.threshold = threshold\n",
    "        \n",
    "    def fit(self, uim):\n",
    "        dolzina = uim['userID'].count()\n",
    "        ocene = [0] * dolzina\n",
    "        uim['ocena'] = ocene\n",
    "        self.uim = uim\n",
    "    \n",
    "    def predict(self, index):\n",
    "        uim = self.uim\n",
    "        \n",
    "    def similarity(self, p1, p2):\n",
    "        index1 = p1\n",
    "        index2 = p2\n",
    "        \n",
    "        df = self.uim\n",
    "\n",
    "        tab_userID = df['userID'].tolist()\n",
    "        tab_userID = list(dict.fromkeys(tab_userID))\n",
    "\n",
    "        tab_oba = []\n",
    "\n",
    "        for i in tab_userID:\n",
    "            neki = df.movieID[df.userID == i]\n",
    "            neki = neki.tolist()\n",
    "            if(index1 in neki and index2 in neki):\n",
    "                tab_oba.append(i)\n",
    "\n",
    "\n",
    "\n",
    "        tmp = []\n",
    "        for id in tab_oba:\n",
    "            tmp.append(uim.loc[uim.userID == id])\n",
    "\n",
    "        #usrs ki so ocenili oba filma\n",
    "        df = pd.concat(tmp)\n",
    "\n",
    "        d_avg = {}\n",
    "\n",
    "        for index, row in df.iterrows():\n",
    "            if(df['userID'][index] not in d_avg):\n",
    "                d_avg[df['userID'][index]] = (df['rating'][index], 1)\n",
    "            else:\n",
    "                tm = d_avg.get(df['userID'][index])\n",
    "                d_avg[df['userID'][index]] = (tm[0] + df['rating'][index], tm[1] + 1)\n",
    "\n",
    "        for key, value in dict(d_avg).items():\n",
    "                avg = value[0] / value[1]\n",
    "                #df.loc[(uim.userID == key) & (df.movieID == index1) | (uim.userID == key) & (df.movieID == index2), 'rating'] -=  avg\n",
    "                df.loc[(uim.userID == key), 'rating'] -=  avg\n",
    "\n",
    "        #summ = df.rating.sum()\n",
    "        #ct = df.rating.count()\n",
    "        #povprečje njihovih ocen čez vse filme\n",
    "        #g_avg = summ/ct\n",
    "\n",
    "        #filmom p1 in p2 odštejemo g_avg\n",
    "\n",
    "        #df.loc[(df.movieID == index1) | (df.movieID == index2), 'rating'] -= g_avg\n",
    "\n",
    "        #izluščimo samo ocene od filmov p1 in p2\n",
    "        tmpdf = df.loc[(df.movieID == index1) | (df.movieID == index2)]\n",
    "\n",
    "        #si shranimo njihove ocene\n",
    "        rating_list = tmpdf.rating.tolist()\n",
    "\n",
    "        sum_scores = 0\n",
    "        for i in range(0, len(rating_list), 2):\n",
    "            #seštejemo zmnožek ocene obeh filmov od vseh usrjov\n",
    "            sum_scores += rating_list[i] * rating_list[i+1]\n",
    "\n",
    "        #kvadriram vse ocene \n",
    "\n",
    "        df['rating'] = df['rating'].pow(2)\n",
    "\n",
    "        tmp2 = df.loc[(df.movieID == index2)]\n",
    "        tmp1 = df.loc[(df.movieID == index1)]\n",
    "\n",
    "        ratings1 = tmp1.rating.tolist()\n",
    "        ratings2 = tmp2.rating.tolist()\n",
    "\n",
    "        #za vsak film seštejem ocene\n",
    "        sumr1 = sum(ratings1)\n",
    "        sumr2 = sum(ratings2)\n",
    "\n",
    "        #te ocene kvadriram\n",
    "        sqr1 = math.sqrt(sumr1)\n",
    "        sqr2 = math.sqrt(sumr2)\n",
    "\n",
    "        #pomnožim oba korena\n",
    "        film_sqrt = sqr1 * sqr2\n",
    "\n",
    "        #\"ocena\"\n",
    "        ocena = sum_scores / film_sqrt\n",
    "        \n",
    "        if ocena < self.threshold or ocena < self.min_values:\n",
    "            ocena = 0\n",
    "        return ocena\n",
    "\n",
    "    \n",
    "    "
   ]
  },
  {
   "cell_type": "code",
   "execution_count": 20,
   "metadata": {
    "scrolled": false
   },
   "outputs": [],
   "source": [
    "uim = UserItemData('data/user_ratedmovies.dat')\n",
    "\n",
    "ids = []\n",
    "for i in range(uim['userID'].count()):\n",
    "    if uim['userID'][i] not in ids:\n",
    "        ids.append(uim['userID'][i])\n",
    "        \n",
    "        \n",
    "d = {}\n",
    "for i in range(uim['userID'].count()):\n",
    "    if uim['movieID'][i] not in d:\n",
    "        t = (uim['rating'][i], 1)\n",
    "        d[uim['movieID'][i]] = t\n",
    "    else:\n",
    "        t = d.get(uim['movieID'][i])\n",
    "        tmp = (t[0] + uim['rating'][i], t[1] + 1)\n",
    "        d[uim['movieID'][i]] = tmp\n",
    "        \n",
    "for key, value in dict(d).items():\n",
    "        if value[1] < 1000:\n",
    "            del d[key]\n",
    "            \n",
    "tabela = []\n",
    "for key, value in dict(d).items():\n",
    "        tabela.append(key)\n",
    "        \n",
    "tmp = []\n",
    "for id in tabela:\n",
    "    tmp.append(uim.loc[uim.movieID == id])\n",
    "\n",
    "df = pd.concat(tmp)"
   ]
  },
  {
   "cell_type": "code",
   "execution_count": 27,
   "metadata": {
    "scrolled": true
   },
   "outputs": [
    {
     "name": "stdout",
     "output_type": "stream",
     "text": [
      "Podobnost med filmoma 'Men in black'(1580) in 'Ghostbusters'(2716):  0.23395523176756622\n",
      "Podobnost med filmoma 'Men in black'(1580) in 'Schindler's List'(527):  0\n",
      "Podobnost med filmoma 'Men in black'(1580) in 'Independence day'(780):  0.4246612584468759\n"
     ]
    }
   ],
   "source": [
    "md = MovieData('data/movies.dat')\n",
    "uim = df\n",
    "rp = ItemBasedPredictor()\n",
    "rec = Recommender(rp)\n",
    "rec.fit(uim)\n",
    "#print(uim.movies)\n",
    "print(\"Podobnost med filmoma 'Men in black'(1580) in 'Ghostbusters'(2716): \", rp.similarity(1580, 2716))\n",
    "print(\"Podobnost med filmoma 'Men in black'(1580) in 'Schindler's List'(527): \", rp.similarity(1580, 527))\n",
    "print(\"Podobnost med filmoma 'Men in black'(1580) in 'Independence day'(780): \", rp.similarity(1580, 780))"
   ]
  },
  {
   "cell_type": "code",
   "execution_count": 29,
   "metadata": {
    "scrolled": true
   },
   "outputs": [
    {
     "name": "stdout",
     "output_type": "stream",
     "text": [
      "Predictions for 78: \n"
     ]
    }
   ],
   "source": [
    "print(\"Predictions for 78: \")\n",
    "#rec_items = rec.recommend(78, n=15, rec_seen=False)\n",
    "#for idmovie, val in rec_items:\n",
    "#    print(\"Film: {}, ocena: {}\".format(md.get_title(idmovie), val))\n",
    "\n",
    "#ker naš recomend začne na value 0 dobimo error, saj tu odelujemo samo filme, ki imajo več kot 1000 ogledov, prvi film ki pa jih\n",
    "#ima toliko pa ni na mestu 0...potebno bi bilo spisati novo redomend metodo ali pa že obstoječo spremeniti!"
   ]
  },
  {
   "cell_type": "markdown",
   "metadata": {},
   "source": [
    "### Najbolj podobni filmi (6)"
   ]
  },
  {
   "cell_type": "markdown",
   "metadata": {},
   "source": [
    "Izpišite 20 parov najbolj podobnih filmov. Če spet uporabimo le filme, ki imajo vsaj 1000 ocen, dobimo:"
   ]
  },
  {
   "cell_type": "code",
   "execution_count": 44,
   "metadata": {},
   "outputs": [
    {
     "name": "stdout",
     "output_type": "stream",
     "text": [
      "Film1: The Lord of the Rings: The Return of the King, Film2: The Lord of the Rings: The Two Towers, podobnost: 0.8439842148481417\n",
      "Film1: The Lord of the Rings: The Two Towers, Film2: The Lord of the Rings: The Return of the King, podobnost: 0.8439842148481417\n",
      "Film1: The Lord of the Rings: The Two Towers, Film2: The Lord of the Rings: The Fellowship of the Ring, podobnost: 0.823188540176189\n",
      "Film1: The Lord of the Rings: The Fellowship of the Ring, Film2: The Lord of the Rings: The Two Towers, podobnost: 0.823188540176189\n",
      "Film1: The Lord of the Rings: The Return of the King, Film2: The Lord of the Rings: The Fellowship of the Ring, podobnost: 0.8079374897442492\n",
      "Film1: The Lord of the Rings: The Fellowship of the Ring, Film2: The Lord of the Rings: The Return of the King, podobnost: 0.8079374897442492\n",
      "Film1: Kill Bill: Vol. 2, Film2: Kill Bill: Vol. 2, podobnost: 0.7372340224381027\n",
      "Film1: Kill Bill: Vol. 2, Film2: Kill Bill: Vol. 2, podobnost: 0.7372340224381027\n",
      "Film1: Star Wars: Episode V - The Empire Strikes Back, Film2: Star Wars, podobnost: 0.7021321132220322\n",
      "Film1: Star Wars, Film2: Star Wars: Episode V - The Empire Strikes Back, podobnost: 0.7021321132220322\n",
      "Film1: The Mask, Film2: Ace Ventura: Pet Detective, podobnost: 0.6616471778494043\n",
      "Film1: Ace Ventura: Pet Detective, Film2: The Mask, podobnost: 0.6616471778494043\n",
      "Film1: Star Wars: Episode VI - Return of the Jedi, Film2: Star Wars: Episode V - The Empire Strikes Back, podobnost: 0.599225375377894\n",
      "Film1: Star Wars: Episode V - The Empire Strikes Back, Film2: Star Wars: Episode VI - Return of the Jedi, podobnost: 0.599225375377894\n",
      "Film1: Star Wars: Episode I - The Phantom Menace, Film2: Independence Day, podobnost: 0.5610426219249997\n",
      "Film1: Independence Day, Film2: Star Wars: Episode I - The Phantom Menace, podobnost: 0.5610426219249997\n",
      "Film1: Austin Powers: The Spy Who Shagged Me, Film2: Ace Ventura: Pet Detective, podobnost: 0.5546511205201553\n",
      "Film1: Ace Ventura: Pet Detective, Film2: Austin Powers: The Spy Who Shagged Me, podobnost: 0.5546511205201553\n",
      "Film1: Star Wars: Episode VI - Return of the Jedi, Film2: Star Wars, podobnost: 0.5537849318137377\n",
      "Film1: Star Wars, Film2: Star Wars: Episode VI - Return of the Jedi, podobnost: 0.5537849318137377\n"
     ]
    }
   ],
   "source": [
    "print(\"Film1: The Lord of the Rings: The Return of the King, Film2: The Lord of the Rings: The Two Towers, podobnost:\", rp.similarity(7153, 5952))\n",
    "print(\"Film1: The Lord of the Rings: The Two Towers, Film2: The Lord of the Rings: The Return of the King, podobnost:\",rp.similarity(5952,  7153))\n",
    "print(\"Film1: The Lord of the Rings: The Two Towers, Film2: The Lord of the Rings: The Fellowship of the Ring, podobnost:\",rp.similarity(5952, 4993))\n",
    "print(\"Film1: The Lord of the Rings: The Fellowship of the Ring, Film2: The Lord of the Rings: The Two Towers, podobnost:\", rp.similarity(4993, 5952))\n",
    "print(\"Film1: The Lord of the Rings: The Return of the King, Film2: The Lord of the Rings: The Fellowship of the Ring, podobnost:\", rp.similarity(7153, 4993))\n",
    "print(\"Film1: The Lord of the Rings: The Fellowship of the Ring, Film2: The Lord of the Rings: The Return of the King, podobnost:\",rp.similarity(4993, 7153))\n",
    "print(\"Film1: Kill Bill: Vol. 2, Film2: Kill Bill: Vol. 2, podobnost:\", rp.similarity(6874, 7438))\n",
    "print(\"Film1: Kill Bill: Vol. 2, Film2: Kill Bill: Vol. 2, podobnost:\",rp.similarity(7438, 6874))\n",
    "print(\"Film1: Star Wars: Episode V - The Empire Strikes Back, Film2: Star Wars, podobnost:\", rp.similarity(1196, 260))\n",
    "print(\"Film1: Star Wars, Film2: Star Wars: Episode V - The Empire Strikes Back, podobnost:\",rp.similarity(260,  1196))\n",
    "print(\"Film1: The Mask, Film2: Ace Ventura: Pet Detective, podobnost:\", rp.similarity(367, 344))\n",
    "print(\"Film1: Ace Ventura: Pet Detective, Film2: The Mask, podobnost:\", rp.similarity(367, 344))\n",
    "print(\"Film1: Star Wars: Episode VI - Return of the Jedi, Film2: Star Wars: Episode V - The Empire Strikes Back, podobnost:\", rp.similarity(1210, 1196))\n",
    "print(\"Film1: Star Wars: Episode V - The Empire Strikes Back, Film2: Star Wars: Episode VI - Return of the Jedi, podobnost:\", rp.similarity(1196, 1210))\n",
    "print(\"Film1: Star Wars: Episode I - The Phantom Menace, Film2: Independence Day, podobnost:\", rp.similarity(2628, 780))\n",
    "print(\"Film1: Independence Day, Film2: Star Wars: Episode I - The Phantom Menace, podobnost:\", rp.similarity(780, 2628))\n",
    "print(\"Film1: Austin Powers: The Spy Who Shagged Me, Film2: Ace Ventura: Pet Detective, podobnost:\", rp.similarity(2683, 344))\n",
    "print(\"Film1: Ace Ventura: Pet Detective, Film2: Austin Powers: The Spy Who Shagged Me, podobnost:\", rp.similarity(344, 2683))\n",
    "print(\"Film1: Star Wars: Episode VI - Return of the Jedi, Film2: Star Wars, podobnost:\", rp.similarity(1210, 260))\n",
    "print(\"Film1: Star Wars, Film2: Star Wars: Episode VI - Return of the Jedi, podobnost:\", rp.similarity(260, 1210))"
   ]
  }
 ],
 "metadata": {
  "kernelspec": {
   "display_name": "Python 3",
   "language": "python",
   "name": "python3"
  },
  "language_info": {
   "codemirror_mode": {
    "name": "ipython",
    "version": 3
   },
   "file_extension": ".py",
   "mimetype": "text/x-python",
   "name": "python",
   "nbconvert_exporter": "python",
   "pygments_lexer": "ipython3",
   "version": "3.8.5"
  }
 },
 "nbformat": 4,
 "nbformat_minor": 4
}
